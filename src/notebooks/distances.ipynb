{
 "cells": [
  {
   "cell_type": "code",
   "execution_count": 1,
   "metadata": {
    "tags": []
   },
   "outputs": [],
   "source": [
    "import pandas as pd"
   ]
  },
  {
   "cell_type": "markdown",
   "metadata": {},
   "source": [
    "## Задание 1"
   ]
  },
  {
   "cell_type": "markdown",
   "metadata": {},
   "source": [
    "Открой файл [distances.ipynb](src/notebooks/distances.ipynb). \n",
    "* Объедини общие данные о фильмах [tmdb_5000_movies](https://files.sberdisk.ru/s/te4QbzdxKgsFQXA) и каст фильмов \n",
    "[tmdb_5000_credits](https://files.sberdisk.ru/s/H9oRuXQt5mFz3T9). \n",
    "* Оставь в датасете только фильмы, которые вышли в \"релиз\".\n",
    "* Убери фильмы с пропусками в колонках ['overview', 'genres', 'keywords']\n",
    "* Выведи количество фильмов, оставшихся в выборке "
   ]
  },
  {
   "cell_type": "code",
   "execution_count": 27,
   "metadata": {},
   "outputs": [
    {
     "data": {
      "text/plain": [
       "4792"
      ]
     },
     "execution_count": 27,
     "metadata": {},
     "output_type": "execute_result"
    }
   ],
   "source": [
    "# Код тут\n",
    "import pandas as pd\n",
    "movies = pd.read_csv(\"../../datasets/tmdb_5000_movies.csv\")\n",
    "credits = pd.read_csv(\"../../datasets/tmdb_5000_credits.csv\")\n",
    "\n",
    "movies = movies[movies.status == \"Released\"]\n",
    "\n",
    "general = movies.merge(credits, left_on='id', right_on='movie_id', how='inner')\n",
    "\n",
    "general.dropna(subset=['overview', 'genres', 'keywords'], inplace=True)\n",
    "\n",
    "general.shape[0]"
   ]
  },
  {
   "cell_type": "markdown",
   "metadata": {},
   "source": [
    "## Задание 2"
   ]
  },
  {
   "cell_type": "markdown",
   "metadata": {},
   "source": [
    "Реализуем алгоритм рекомендации на основе описания фильма (`overview`) и ключевых слов к фильму (`keywords`). \n",
    "Объедини тексты этих колонок и проведи предобработку:\n",
    "* Замени NaN в описании фильма на пустой символ `''`\n",
    "* Удали все английские стоп-слова (используй параметр `stop_words` в `TfidfVectorizer`)\n",
    "* Рассчитай матрицу [Tf-Idf](https://scikit-learn.org/stable/modules/generated/sklearn.feature_extraction.text.TfidfVectorizer.html) для описания фильмов.\n",
    "\n",
    "Выведи размер получившейся матрицы\n",
    "> Параметр `max_features` в `TfidfVectorizer` должен быть равен 10000"
   ]
  },
  {
   "cell_type": "code",
   "execution_count": 28,
   "metadata": {},
   "outputs": [
    {
     "name": "stdout",
     "output_type": "stream",
     "text": [
      "(4792, 10000)\n"
     ]
    }
   ],
   "source": [
    "# Код тут\n",
    "from sklearn.feature_extraction.text import TfidfVectorizer\n",
    "\n",
    "# Замена NaN на пустой символ\n",
    "general['overview'].fillna('', inplace=True)\n",
    "\n",
    "# Удаление английских стоп-слов и расчет Tf-Idf\n",
    "vectorizer = TfidfVectorizer(stop_words='english', max_features=10000)\n",
    "tfidf_matrix = vectorizer.fit_transform(general['overview'])\n",
    "\n",
    "# Вывод размера матрицы Tf-Idf\n",
    "print(tfidf_matrix.shape)"
   ]
  },
  {
   "cell_type": "markdown",
   "metadata": {},
   "source": [
    "## Задание 3"
   ]
  },
  {
   "cell_type": "markdown",
   "metadata": {},
   "source": [
    "Рассчитай косинусное расстояние между фильмами. Составь из этой матрицы `pd.DataFrame`. Для дальнейшего удобства, \n",
    "колонки и индексы таблицы назови согласно`id` фильма. \\\n",
    "Сохрани получившийся `DataFrame` c расстояниями в папку [assets](src/assets) с названием `distance.csv`.\n",
    "А сам объединенный датасет с фильмами сохрани в папку [assets](src/assets) с названием `movies.csv`.\n",
    "\n",
    "> Получившиеся файлы `distance.csv` и `movies.csv` пушить в GitLab не нужно!\n"
   ]
  },
  {
   "cell_type": "code",
   "execution_count": 29,
   "metadata": {},
   "outputs": [],
   "source": [
    "# Код тут\n",
    "from sklearn.metrics.pairwise import linear_kernel\n",
    "\n",
    "cosine_sim = linear_kernel(tfidf_matrix, tfidf_matrix)\n",
    "\n",
    "# Создаем DataFrame на основе расстояний\n",
    "df_distances = pd.DataFrame(cosine_sim, index=general['movie_id'], columns=general['movie_id'])\n",
    "\n",
    "# Сохраняем DataFrame с расстояниями в файл distance.csv\n",
    "df_distances.to_csv('../assets/distance.csv')\n",
    "\n",
    "# Сохраняем объединенный датасет фильмов в файл movies.csv\n",
    "general.to_csv('../assets/movies.csv')"
   ]
  },
  {
   "cell_type": "code",
   "execution_count": null,
   "metadata": {},
   "outputs": [],
   "source": []
  }
 ],
 "metadata": {
  "kernelspec": {
   "display_name": "Python 3 (ipykernel)",
   "language": "python",
   "name": "python3"
  },
  "language_info": {
   "codemirror_mode": {
    "name": "ipython",
    "version": 3
   },
   "file_extension": ".py",
   "mimetype": "text/x-python",
   "name": "python",
   "nbconvert_exporter": "python",
   "pygments_lexer": "ipython3",
   "version": "3.11.2"
  }
 },
 "nbformat": 4,
 "nbformat_minor": 4
}
